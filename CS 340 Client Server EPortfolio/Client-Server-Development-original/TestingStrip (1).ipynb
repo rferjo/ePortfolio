{
 "cells": [
  {
   "cell_type": "code",
   "execution_count": 3,
   "id": "e56938b4",
   "metadata": {},
   "outputs": [
    {
     "ename": "NameError",
     "evalue": "name 'AnimalShelter' is not defined",
     "output_type": "error",
     "traceback": [
      "\u001b[0;31m---------------------------------------------------------------------------\u001b[0m",
      "\u001b[0;31mNameError\u001b[0m                                 Traceback (most recent call last)",
      "Input \u001b[0;32mIn [3]\u001b[0m, in \u001b[0;36m<cell line: 2>\u001b[0;34m()\u001b[0m\n\u001b[1;32m      1\u001b[0m \u001b[38;5;28;01mimport\u001b[39;00m \u001b[38;5;21;01mpymongo\u001b[39;00m \u001b[38;5;28;01mas\u001b[39;00m \u001b[38;5;21;01mdriver\u001b[39;00m\n\u001b[0;32m----> 2\u001b[0m animals \u001b[38;5;241m=\u001b[39m \u001b[43mAnimalShelter\u001b[49m(\u001b[38;5;124m\"\u001b[39m\u001b[38;5;124maacuser\u001b[39m\u001b[38;5;124m\"\u001b[39m, \u001b[38;5;124m\"\u001b[39m\u001b[38;5;124maacuser\u001b[39m\u001b[38;5;124m\"\u001b[39m)\n\u001b[1;32m      4\u001b[0m testData \u001b[38;5;241m=\u001b[39m {\n\u001b[1;32m      5\u001b[0m     \u001b[38;5;124m'\u001b[39m\u001b[38;5;124m1\u001b[39m\u001b[38;5;124m'\u001b[39m : \u001b[38;5;241m4\u001b[39m,\n\u001b[1;32m      6\u001b[0m     \u001b[38;5;124m'\u001b[39m\u001b[38;5;124mage_upon_outcome\u001b[39m\u001b[38;5;124m'\u001b[39m: \u001b[38;5;124m\"\u001b[39m\u001b[38;5;124m4 years\u001b[39m\u001b[38;5;124m\"\u001b[39m,\n\u001b[0;32m   (...)\u001b[0m\n\u001b[1;32m     19\u001b[0m     \u001b[38;5;124m'\u001b[39m\u001b[38;5;124mlocation_long\u001b[39m\u001b[38;5;124m'\u001b[39m: \u001b[38;5;241m-\u001b[39m\u001b[38;5;241m97.7419963476444\u001b[39m,\n\u001b[1;32m     20\u001b[0m     \u001b[38;5;124m'\u001b[39m\u001b[38;5;124mage_upon_outcome_in_weeks\u001b[39m\u001b[38;5;124m'\u001b[39m: \u001b[38;5;241m52.9215277777778\u001b[39m}\n",
      "\u001b[0;31mNameError\u001b[0m: name 'AnimalShelter' is not defined"
     ]
    }
   ],
   "source": [
    "import pymongo as driver\n",
    "animals = AnimalShelter(\"aacuser\", \"aacuser\")\n",
    "\n",
    "testData = {\n",
    "    '1' : 4,\n",
    "    'age_upon_outcome': \"4 years\",\n",
    "    'animal_id': \"test\",\n",
    "    'animal_type': \"Cat\",\n",
    "    'breed': \"Domestic Shorthair Cat\",\n",
    "    'color': \"Black Tabby\",\n",
    "    'date_of_birth': \"2018-03-27\",\n",
    "    'datetime': \"2018-03-27 11:14:00\",\n",
    "    'monthyear': \"2018-03-27T11:14:00\",\n",
    "    'name': \"Binx\",\n",
    "    'outcome_subtype': \"\",\n",
    "    'outcome_type': \"Adoption\",\n",
    "    'sex_upon_outcome': \"Spayed Male\",\n",
    "    'location_lat': 30.6525984560228,\n",
    "    'location_long': -97.7419963476444,\n",
    "    'age_upon_outcome_in_weeks': 52.9215277777778}\n"
   ]
  },
  {
   "cell_type": "code",
   "execution_count": null,
   "id": "4348953d",
   "metadata": {},
   "outputs": [],
   "source": []
  }
 ],
 "metadata": {
  "kernelspec": {
   "display_name": "Python 3 (ipykernel)",
   "language": "python",
   "name": "python3"
  },
  "language_info": {
   "codemirror_mode": {
    "name": "ipython",
    "version": 3
   },
   "file_extension": ".py",
   "mimetype": "text/x-python",
   "name": "python",
   "nbconvert_exporter": "python",
   "pygments_lexer": "ipython3",
   "version": "3.9.12"
  }
 },
 "nbformat": 4,
 "nbformat_minor": 5
}
